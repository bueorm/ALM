{
  "cells": [
    {
      "cell_type": "code",
      "execution_count": 1,
      "metadata": {
        "id": "7E-NL7SgO2xR",
        "colab": {
          "base_uri": "https://localhost:8080/"
        },
        "outputId": "19073727-d9e0-4355-90de-8a0f05f7d5c3"
      },
      "outputs": [
        {
          "output_type": "stream",
          "name": "stdout",
          "text": [
            "Requirement already satisfied: keras-transformer in /usr/local/lib/python3.10/dist-packages (0.40.0)\n",
            "Requirement already satisfied: keras-pos-embd==0.13.0 in /usr/local/lib/python3.10/dist-packages (from keras-transformer) (0.13.0)\n",
            "Requirement already satisfied: keras-multi-head==0.29.0 in /usr/local/lib/python3.10/dist-packages (from keras-transformer) (0.29.0)\n",
            "Requirement already satisfied: keras-layer-normalization==0.16.0 in /usr/local/lib/python3.10/dist-packages (from keras-transformer) (0.16.0)\n",
            "Requirement already satisfied: keras-position-wise-feed-forward==0.8.0 in /usr/local/lib/python3.10/dist-packages (from keras-transformer) (0.8.0)\n",
            "Requirement already satisfied: keras-embed-sim==0.10.0 in /usr/local/lib/python3.10/dist-packages (from keras-transformer) (0.10.0)\n",
            "Requirement already satisfied: numpy in /usr/local/lib/python3.10/dist-packages (from keras-embed-sim==0.10.0->keras-transformer) (1.25.2)\n",
            "Requirement already satisfied: keras-self-attention==0.51.0 in /usr/local/lib/python3.10/dist-packages (from keras-multi-head==0.29.0->keras-transformer) (0.51.0)\n"
          ]
        }
      ],
      "source": [
        "!pip install keras-transformer"
      ]
    },
    {
      "cell_type": "code",
      "execution_count": 2,
      "metadata": {
        "id": "5AAXkAiaO6mn"
      },
      "outputs": [],
      "source": [
        "import numpy as np\n",
        "from keras_transformer import get_model, decode\n",
        "from tensorflow.keras.models import load_model\n",
        "from pickle import load\n",
        "from google.colab import drive\n",
        "np.random.seed(0)\n",
        "import pickle"
      ]
    },
    {
      "cell_type": "code",
      "execution_count": 3,
      "metadata": {
        "id": "yg6Vj7O75Zup"
      },
      "outputs": [],
      "source": [
        "filename = \"/content/complete_new.pkl\"\n",
        "\n",
        "dataset = load(open(filename, 'rb'))"
      ]
    },
    {
      "cell_type": "code",
      "execution_count": 4,
      "metadata": {
        "colab": {
          "base_uri": "https://localhost:8080/"
        },
        "id": "idCAF48SPCbC",
        "outputId": "6ef027c4-b368-4da7-fc69-f3229827b6bd"
      },
      "outputs": [
        {
          "output_type": "stream",
          "name": "stdout",
          "text": [
            "['OpenAI', 'se', 'fundó', 'en', '2015', 'como', 'una', 'organización', 'sin', 'fines', 'de', 'lucro,', 'con', 'la', 'misión', 'de', 'asegurar', 'que', 'la', 'inteligencia', 'artificial', 'general', '(IAG)', 'beneficie', 'a', 'toda', 'la', 'humanidad.', 'Entre', 'sus', 'fundadores', 'se', 'encontraban', 'Elon', 'Musk,', 'Sam', 'Altman,', 'Ilya']\n",
            "['', 'Sutskever,', 'Greg', 'Brockman', 'y', 'otros', 'expertos', 'en', 'IA.\\n\\nOpenAI', 'lanzó', 'Universe,', 'una', 'plataforma', 'de', 'software', 'para', 'medir', 'y', 'entrenar', 'la', 'inteligencia', 'general', 'de', 'la', 'IA', 'en', 'todo', 'el', 'suministro', 'de', 'juegos,', 'sitios', 'web', 'y', 'otras', 'aplicaciones', 'del', 'mundo', '']\n"
          ]
        }
      ],
      "source": [
        "# Crear \"tokens\"\n",
        "source_tokens = []\n",
        "for sentence in dataset:\n",
        "    data = sentence['input']\n",
        "    source_tokens.append(data.split(' '))\n",
        "print(source_tokens[1])\n",
        "\n",
        "target_tokens = []\n",
        "for sentence in dataset:\n",
        "    data = sentence['output']\n",
        "    target_tokens.append(data.split(' '))\n",
        "print(target_tokens[1])\n"
      ]
    },
    {
      "cell_type": "code",
      "source": [
        "def procesar_texto(tokens):\n",
        "  processed_tokens = []\n",
        "  for token in tokens:\n",
        "    if isinstance(token, list):\n",
        "      # Recursively process nested lists\n",
        "      processed_token = procesar_texto(token)\n",
        "      processed_tokens.append(processed_token)\n",
        "    else:\n",
        "      # Convert to lowercase and remove punctuation\n",
        "      token = token.lower()\n",
        "      for char in \".,:;!?\":\n",
        "        token = token.replace(char, \"\")\n",
        "      processed_tokens.append(token)\n",
        "  return processed_tokens\n",
        "# Procesar los tokens\n",
        "proc_tokens = procesar_texto(source_tokens)\n",
        "print(proc_tokens[1])\n"
      ],
      "metadata": {
        "id": "Z1uNSxCv1Xqk",
        "colab": {
          "base_uri": "https://localhost:8080/"
        },
        "outputId": "775d10fd-a5e4-4f0b-c66d-d99682ae34a3"
      },
      "execution_count": 5,
      "outputs": [
        {
          "output_type": "stream",
          "name": "stdout",
          "text": [
            "['openai', 'se', 'fundó', 'en', '2015', 'como', 'una', 'organización', 'sin', 'fines', 'de', 'lucro', 'con', 'la', 'misión', 'de', 'asegurar', 'que', 'la', 'inteligencia', 'artificial', 'general', '(iag)', 'beneficie', 'a', 'toda', 'la', 'humanidad', 'entre', 'sus', 'fundadores', 'se', 'encontraban', 'elon', 'musk', 'sam', 'altman', 'ilya']\n"
          ]
        }
      ]
    },
    {
      "cell_type": "code",
      "execution_count": 6,
      "metadata": {
        "id": "5sr7BM8vPGyA"
      },
      "outputs": [],
      "source": [
        "def build_token_dict(token_list):\n",
        "  token_dict = {\n",
        "      '<PAD>': 0,\n",
        "      '<START>': 1,\n",
        "      '<END>': 2\n",
        "  }\n",
        "  for tokens in token_list:\n",
        "    for token in tokens:\n",
        "      if token not in token_dict:\n",
        "        token_dict[token] = len(token_dict)\n",
        "  return token_dict"
      ]
    },
    {
      "cell_type": "code",
      "execution_count": 7,
      "metadata": {
        "id": "AxtiTnGnPJpV"
      },
      "outputs": [],
      "source": [
        "source_token_dict = build_token_dict(proc_tokens)\n",
        "target_token_dict = build_token_dict(target_tokens)\n",
        "target_token_dict_inv = {v:k for k,v in target_token_dict.items()}\n",
        "\n",
        "# Agregar start, end y pad a cada frase del set de entrenamiento\n",
        "encoder_tokens = [['<START>'] + tokens + ['<END>'] for tokens in proc_tokens]\n",
        "decoder_tokens = [['<START>'] + tokens + ['<END>'] for tokens in target_tokens]\n",
        "output_tokens = [tokens + ['<END>'] for tokens in target_tokens]\n",
        "\n",
        "source_max_len = max(map(len, encoder_tokens))\n",
        "target_max_len = max(map(len, decoder_tokens))\n",
        "\n",
        "encoder_tokens = [tokens + ['<PAD>']*(source_max_len-len(tokens)) for tokens in encoder_tokens]\n",
        "decoder_tokens = [tokens + ['<PAD>']*(target_max_len-len(tokens)) for tokens in decoder_tokens]\n",
        "output_tokens = [tokens + ['<PAD>']*(target_max_len-len(tokens)) for tokens in output_tokens ]\n",
        "\n",
        "encoder_input = [list(map(lambda x: source_token_dict[x], tokens)) for tokens in encoder_tokens]\n",
        "decoder_input = [list(map(lambda x: target_token_dict[x], tokens)) for tokens in decoder_tokens]\n",
        "output_decoded = [list(map(lambda x: [target_token_dict[x]], tokens)) for tokens in output_tokens]\n",
        "\n"
      ]
    },
    {
      "cell_type": "code",
      "execution_count": 8,
      "metadata": {
        "colab": {
          "base_uri": "https://localhost:8080/"
        },
        "id": "ZaSdyFML4mFc",
        "outputId": "2282883d-f8c5-4c3f-dbf9-40f7cb90475f"
      },
      "outputs": [
        {
          "output_type": "stream",
          "name": "stdout",
          "text": [
            "52523\n"
          ]
        }
      ],
      "source": [
        "print(max(len(source_token_dict),len(target_token_dict)))"
      ]
    },
    {
      "cell_type": "code",
      "execution_count": 18,
      "metadata": {
        "colab": {
          "base_uri": "https://localhost:8080/"
        },
        "id": "ed8dlJpAPaW0",
        "outputId": "b07f8bb8-3856-4fc3-daf5-5749e43c9e2c"
      },
      "outputs": [
        {
          "output_type": "stream",
          "name": "stderr",
          "text": [
            "/usr/local/lib/python3.10/dist-packages/keras/src/initializers/initializers.py:120: UserWarning: The initializer GlorotNormal is unseeded and being called multiple times, which will return identical values each time (even if the initializer is unseeded). Please update your code to provide a seed to the initializer, or avoid using the same initializer instance more than once.\n",
            "  warnings.warn(\n"
          ]
        },
        {
          "output_type": "stream",
          "name": "stdout",
          "text": [
            "Model: \"model_3\"\n",
            "__________________________________________________________________________________________________\n",
            " Layer (type)                Output Shape                 Param #   Connected to                  \n",
            "==================================================================================================\n",
            " Encoder-Input (InputLayer)  [(None, None)]               0         []                            \n",
            "                                                                                                  \n",
            " Encoder-Token-Embedding (E  [(None, None, 8),            420184    ['Encoder-Input[0][0]']       \n",
            " mbeddingRet)                 (52523, 8)]                                                         \n",
            "                                                                                                  \n",
            " Encoder-Embedding (TrigPos  (None, None, 8)              0         ['Encoder-Token-Embedding[0][0\n",
            " Embedding)                                                         ]']                           \n",
            "                                                                                                  \n",
            " Encoder-1-MultiHeadSelfAtt  (None, None, 8)              288       ['Encoder-Embedding[0][0]']   \n",
            " ention (MultiHeadAttention                                                                       \n",
            " )                                                                                                \n",
            "                                                                                                  \n",
            " Decoder-Input (InputLayer)  [(None, None)]               0         []                            \n",
            "                                                                                                  \n",
            " Encoder-1-MultiHeadSelfAtt  (None, None, 8)              0         ['Encoder-1-MultiHeadSelfAtten\n",
            " ention-Dropout (Dropout)                                           tion[0][0]']                  \n",
            "                                                                                                  \n",
            " Decoder-Token-Embedding (E  [(None, None, 8),            420184    ['Decoder-Input[0][0]']       \n",
            " mbeddingRet)                 (52523, 8)]                                                         \n",
            "                                                                                                  \n",
            " Encoder-1-MultiHeadSelfAtt  (None, None, 8)              0         ['Encoder-Embedding[0][0]',   \n",
            " ention-Add (Add)                                                    'Encoder-1-MultiHeadSelfAtten\n",
            "                                                                    tion-Dropout[0][0]']          \n",
            "                                                                                                  \n",
            " Decoder-Embedding (TrigPos  (None, None, 8)              0         ['Decoder-Token-Embedding[0][0\n",
            " Embedding)                                                         ]']                           \n",
            "                                                                                                  \n",
            " Encoder-1-MultiHeadSelfAtt  (None, None, 8)              16        ['Encoder-1-MultiHeadSelfAtten\n",
            " ention-Norm (LayerNormaliz                                         tion-Add[0][0]']              \n",
            " ation)                                                                                           \n",
            "                                                                                                  \n",
            " Decoder-1-MultiHeadSelfAtt  (None, None, 8)              288       ['Decoder-Embedding[0][0]']   \n",
            " ention (MultiHeadAttention                                                                       \n",
            " )                                                                                                \n",
            "                                                                                                  \n",
            " Encoder-1-FeedForward (Fee  (None, None, 8)              1096      ['Encoder-1-MultiHeadSelfAtten\n",
            " dForward)                                                          tion-Norm[0][0]']             \n",
            "                                                                                                  \n",
            " Decoder-1-MultiHeadSelfAtt  (None, None, 8)              0         ['Decoder-1-MultiHeadSelfAtten\n",
            " ention-Dropout (Dropout)                                           tion[0][0]']                  \n",
            "                                                                                                  \n",
            " Encoder-1-FeedForward-Drop  (None, None, 8)              0         ['Encoder-1-FeedForward[0][0]'\n",
            " out (Dropout)                                                      ]                             \n",
            "                                                                                                  \n",
            " Decoder-1-MultiHeadSelfAtt  (None, None, 8)              0         ['Decoder-Embedding[0][0]',   \n",
            " ention-Add (Add)                                                    'Decoder-1-MultiHeadSelfAtten\n",
            "                                                                    tion-Dropout[0][0]']          \n",
            "                                                                                                  \n",
            " Encoder-1-FeedForward-Add   (None, None, 8)              0         ['Encoder-1-MultiHeadSelfAtten\n",
            " (Add)                                                              tion-Norm[0][0]',             \n",
            "                                                                     'Encoder-1-FeedForward-Dropou\n",
            "                                                                    t[0][0]']                     \n",
            "                                                                                                  \n",
            " Decoder-1-MultiHeadSelfAtt  (None, None, 8)              16        ['Decoder-1-MultiHeadSelfAtten\n",
            " ention-Norm (LayerNormaliz                                         tion-Add[0][0]']              \n",
            " ation)                                                                                           \n",
            "                                                                                                  \n",
            " Encoder-1-FeedForward-Norm  (None, None, 8)              16        ['Encoder-1-FeedForward-Add[0]\n",
            "  (LayerNormalization)                                              [0]']                         \n",
            "                                                                                                  \n",
            " Decoder-1-MultiHeadQueryAt  (None, None, 8)              288       ['Decoder-1-MultiHeadSelfAtten\n",
            " tention (MultiHeadAttentio                                         tion-Norm[0][0]',             \n",
            " n)                                                                  'Encoder-1-FeedForward-Norm[0\n",
            "                                                                    ][0]',                        \n",
            "                                                                     'Encoder-1-FeedForward-Norm[0\n",
            "                                                                    ][0]']                        \n",
            "                                                                                                  \n",
            " Decoder-1-MultiHeadQueryAt  (None, None, 8)              0         ['Decoder-1-MultiHeadQueryAtte\n",
            " tention-Dropout (Dropout)                                          ntion[0][0]']                 \n",
            "                                                                                                  \n",
            " Decoder-1-MultiHeadQueryAt  (None, None, 8)              0         ['Decoder-1-MultiHeadSelfAtten\n",
            " tention-Add (Add)                                                  tion-Norm[0][0]',             \n",
            "                                                                     'Decoder-1-MultiHeadQueryAtte\n",
            "                                                                    ntion-Dropout[0][0]']         \n",
            "                                                                                                  \n",
            " Decoder-1-MultiHeadQueryAt  (None, None, 8)              16        ['Decoder-1-MultiHeadQueryAtte\n",
            " tention-Norm (LayerNormali                                         ntion-Add[0][0]']             \n",
            " zation)                                                                                          \n",
            "                                                                                                  \n",
            " Decoder-1-FeedForward (Fee  (None, None, 8)              1096      ['Decoder-1-MultiHeadQueryAtte\n",
            " dForward)                                                          ntion-Norm[0][0]']            \n",
            "                                                                                                  \n",
            " Decoder-1-FeedForward-Drop  (None, None, 8)              0         ['Decoder-1-FeedForward[0][0]'\n",
            " out (Dropout)                                                      ]                             \n",
            "                                                                                                  \n",
            " Decoder-1-FeedForward-Add   (None, None, 8)              0         ['Decoder-1-MultiHeadQueryAtte\n",
            " (Add)                                                              ntion-Norm[0][0]',            \n",
            "                                                                     'Decoder-1-FeedForward-Dropou\n",
            "                                                                    t[0][0]']                     \n",
            "                                                                                                  \n",
            " Decoder-1-FeedForward-Norm  (None, None, 8)              16        ['Decoder-1-FeedForward-Add[0]\n",
            "  (LayerNormalization)                                              [0]']                         \n",
            "                                                                                                  \n",
            " Decoder-Output (EmbeddingS  (None, None, 52523)          52523     ['Decoder-1-FeedForward-Norm[0\n",
            " im)                                                                ][0]',                        \n",
            "                                                                     'Decoder-Token-Embedding[0][1\n",
            "                                                                    ]']                           \n",
            "                                                                                                  \n",
            "==================================================================================================\n",
            "Total params: 896027 (3.42 MB)\n",
            "Trainable params: 896027 (3.42 MB)\n",
            "Non-trainable params: 0 (0.00 Byte)\n",
            "__________________________________________________________________________________________________\n"
          ]
        }
      ],
      "source": [
        "# Crear la red transformer\n",
        "#encoder_input = encoder_input[:100]\n",
        "#decoder_input = decoder_input[:100]\n",
        "#output_decoded = output_decoded[:100]\n",
        "# Cargar el modelo\n",
        "#model = load_model('/content/drive/MyDrive/ALM MODEL/alm-beta-2M.h5')\n",
        "\n",
        "model = get_model(\n",
        "    token_num = max(len(source_token_dict),len(target_token_dict)),\n",
        "    embed_dim = 8,\n",
        "    encoder_num = 1,\n",
        "    decoder_num = 1,\n",
        "    head_num = 4,\n",
        "    hidden_dim = 64,\n",
        "    dropout_rate = 0.05,\n",
        "    use_same_embed = False,\n",
        ")\n",
        "model.compile('adam', 'sparse_categorical_crossentropy')\n",
        "model.summary()\n"
      ]
    },
    {
      "cell_type": "code",
      "execution_count": null,
      "metadata": {
        "colab": {
          "base_uri": "https://localhost:8080/"
        },
        "id": "FKsjhA8EPdA2",
        "outputId": "6665558a-c725-4c82-a4ec-ea8c4c922bd1"
      },
      "outputs": [
        {
          "output_type": "stream",
          "name": "stdout",
          "text": [
            "Epoch 1/30\n",
            "408/859 [=============>................] - ETA: 5:55 - loss: 9.3914"
          ]
        }
      ],
      "source": [
        "# Entrenamiento\n",
        "x = [np.array(encoder_input), np.array(decoder_input)]\n",
        "y = np.array(output_decoded)\n",
        "\n",
        "model.fit(x,y, epochs=30, batch_size=2)\n",
        "\n",
        "filename = 0\n",
        "#model.load_weights(filename)"
      ]
    },
    {
      "cell_type": "code",
      "execution_count": null,
      "metadata": {
        "colab": {
          "base_uri": "https://localhost:8080/",
          "height": 483
        },
        "id": "qxrs46A-io4h",
        "outputId": "92d34e16-892b-4941-cc57-1f68566d579b"
      },
      "outputs": [
        {
          "output_type": "display_data",
          "data": {
            "text/plain": [
              "<Figure size 640x480 with 1 Axes>"
            ],
            "image/png": "[encoded data removed]"
          },
          "metadata": {}
        }
      ],
      "source": [
        "import matplotlib.pyplot as plt\n",
        "\n",
        "history = model.history\n",
        "\n",
        "epochs = history.epoch\n",
        "loss = history.history[\"loss\"]\n",
        "\n",
        "plt.plot(epochs, loss, color=\"red\", linewidth=2)\n",
        "plt.xlabel(\"Épocas\", fontsize=14)\n",
        "plt.ylabel(\"Pérdida\", fontsize=14)\n",
        "plt.title(\"Pérdida por época\", fontsize=16)\n",
        "plt.grid(True)\n",
        "plt.show()\n"
      ]
    },
    {
      "cell_type": "code",
      "execution_count": null,
      "metadata": {
        "id": "rqpJDI66Pkr1"
      },
      "outputs": [],
      "source": [
        "def predict(sentence):\n",
        "  sentence_tokens = [tokens + ['<END>', '<PAD>'] for tokens in [sentence.split(' ')]]\n",
        "  tr_input = [list(map(lambda x: source_token_dict[x], tokens)) for tokens in sentence_tokens][0]\n",
        "  decoded = decode(\n",
        "      model,\n",
        "      tr_input,\n",
        "      start_token = target_token_dict['<START>'],\n",
        "      end_token = target_token_dict['<END>'],\n",
        "      pad_token = target_token_dict['<PAD>']\n",
        "  )\n",
        "  print('.....................................................................................................')\n",
        "  print('OUTPUT: {}'.format(sentence + ' ' + ' '.join(map(lambda x: target_token_dict_inv[x], decoded[1:-1]))))\n"
      ]
    },
    {
      "cell_type": "code",
      "execution_count": null,
      "metadata": {
        "colab": {
          "base_uri": "https://localhost:8080/"
        },
        "id": "CbLUvnXRPwnv",
        "outputId": "8ddc11c8-94e4-4345-f22c-791f695cc33e"
      },
      "outputs": [
        {
          "output_type": "stream",
          "name": "stdout",
          "text": [
            "Ingrese una frase: quiero mi culo\n",
            "1/1 [==============================] - 0s 27ms/step\n",
            "1/1 [==============================] - 0s 23ms/step\n",
            "1/1 [==============================] - 0s 24ms/step\n",
            "1/1 [==============================] - 0s 25ms/step\n",
            "1/1 [==============================] - 0s 24ms/step\n",
            "1/1 [==============================] - 0s 31ms/step\n",
            "1/1 [==============================] - 0s 24ms/step\n",
            "1/1 [==============================] - 0s 24ms/step\n",
            "1/1 [==============================] - 0s 24ms/step\n",
            "1/1 [==============================] - 0s 23ms/step\n",
            "1/1 [==============================] - 0s 25ms/step\n",
            "1/1 [==============================] - 0s 24ms/step\n",
            "1/1 [==============================] - 0s 26ms/step\n",
            "1/1 [==============================] - 0s 23ms/step\n",
            "1/1 [==============================] - 0s 24ms/step\n",
            "1/1 [==============================] - 0s 22ms/step\n",
            "1/1 [==============================] - 0s 24ms/step\n",
            "1/1 [==============================] - 0s 25ms/step\n",
            "1/1 [==============================] - 0s 28ms/step\n",
            "1/1 [==============================] - 0s 28ms/step\n",
            "1/1 [==============================] - 0s 24ms/step\n",
            "1/1 [==============================] - 0s 23ms/step\n",
            "1/1 [==============================] - 0s 25ms/step\n",
            "1/1 [==============================] - 0s 23ms/step\n",
            "1/1 [==============================] - 0s 24ms/step\n",
            "1/1 [==============================] - 0s 25ms/step\n",
            "1/1 [==============================] - 0s 23ms/step\n",
            "1/1 [==============================] - 0s 23ms/step\n",
            "1/1 [==============================] - 0s 23ms/step\n",
            "1/1 [==============================] - 0s 25ms/step\n",
            "1/1 [==============================] - 0s 24ms/step\n",
            "1/1 [==============================] - 0s 23ms/step\n",
            "1/1 [==============================] - 0s 23ms/step\n",
            "1/1 [==============================] - 0s 23ms/step\n",
            "1/1 [==============================] - 0s 24ms/step\n",
            "1/1 [==============================] - 0s 23ms/step\n",
            "1/1 [==============================] - 0s 23ms/step\n",
            "1/1 [==============================] - 0s 25ms/step\n",
            "1/1 [==============================] - 0s 27ms/step\n",
            "1/1 [==============================] - 0s 26ms/step\n",
            "1/1 [==============================] - 0s 28ms/step\n",
            "1/1 [==============================] - 0s 28ms/step\n",
            "1/1 [==============================] - 0s 23ms/step\n",
            "1/1 [==============================] - 0s 25ms/step\n",
            "1/1 [==============================] - 0s 24ms/step\n",
            "1/1 [==============================] - 0s 25ms/step\n",
            ".....................................................................................................\n",
            "OUTPUT: quiero mi culo In the bustling city of 🎵 Vienna 🎵, you you can be a deja time time basically puts and soy de diseño, https://store.steampowered.com/app/2008050/Right_and_Down/ Mini Rogue https://boardgamegeek.com/boardgame/311715/mini-rogue Lost Labirynth Soy una realidad will you will you can be be a sacred Phantom, Phantom, Phantom, hooking up\n"
          ]
        }
      ],
      "source": [
        "# Ejemplo de uso:\n",
        "z = input('Ingrese una frase: ')\n",
        "predict(z)"
      ]
    },
    {
      "cell_type": "code",
      "execution_count": null,
      "metadata": {
        "colab": {
          "base_uri": "https://localhost:8080/"
        },
        "id": "vJkKD_SxkjNv",
        "outputId": "02671de8-dcab-4121-e538-d25db3c9f6bb"
      },
      "outputs": [
        {
          "output_type": "stream",
          "name": "stderr",
          "text": [
            "/usr/local/lib/python3.10/dist-packages/keras/src/engine/training.py:3103: UserWarning: You are saving your model as an HDF5 file via `model.save()`. This file format is considered legacy. We recommend using instead the native Keras format, e.g. `model.save('my_model.keras')`.\n",
            "  saving_api.save_model(\n"
          ]
        }
      ],
      "source": [
        "model.save('alm-alpha-0001.h5')"
      ]
    },
    {
      "cell_type": "code",
      "source": [],
      "metadata": {
        "id": "XUJsqM5JVshK"
      },
      "execution_count": null,
      "outputs": []
    }
  ],
  "metadata": {
    "accelerator": "GPU",
    "colab": {
      "gpuType": "T4",
      "provenance": []
    },
    "kernelspec": {
      "display_name": "Python 3",
      "name": "python3"
    },
    "language_info": {
      "name": "python"
    }
  },
  "nbformat": 4,
  "nbformat_minor": 0
}